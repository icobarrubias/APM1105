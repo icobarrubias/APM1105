{
 "cells": [
  {
   "cell_type": "markdown",
   "id": "1696804b",
   "metadata": {},
   "source": [
    "## How many seconds are there in 42 minutes 42 seconds\n"
   ]
  },
  {
   "cell_type": "code",
   "execution_count": 3,
   "id": "0190170c",
   "metadata": {},
   "outputs": [
    {
     "name": "stdout",
     "output_type": "stream",
     "text": [
      "There are 2562.00 seconds in 42.00 minutes and 42.00 seconds\n"
     ]
    }
   ],
   "source": [
    "a = 42\n",
    "b = a * 60 + a\n",
    "print('There are %.2f seconds in %.2f minutes and %.2f seconds.' %(b, a, a))"
   ]
  },
  {
   "cell_type": "markdown",
   "id": "bf9221b6",
   "metadata": {},
   "source": [
    "## How many miles are there in 10 kilometers? Hint: there are 1.61 kilometers in a mile."
   ]
  },
  {
   "cell_type": "code",
   "execution_count": 5,
   "id": "dde95fbb",
   "metadata": {},
   "outputs": [
    {
     "name": "stdout",
     "output_type": "stream",
     "text": [
      "There are 6.21 miles in 10.00 kilometers\n"
     ]
    }
   ],
   "source": [
    "c = 10\n",
    "d = c/1.61\n",
    "print('There are %.2f miles in %.2f kilometers.' %(d,c))"
   ]
  },
  {
   "cell_type": "markdown",
   "id": "8e960fe7",
   "metadata": {},
   "source": [
    "## If you run a 10 kilometer race in 42 minutes 42 seconds, what is your average pace (time per mile in minutes and seconds)? What is your average speed in miles per hour?"
   ]
  },
  {
   "cell_type": "code",
   "execution_count": 8,
   "id": "918bafe5",
   "metadata": {},
   "outputs": [
    {
     "name": "stdout",
     "output_type": "stream",
     "text": [
      "You are running at a pace of 6.87 minutes per mile.\n",
      "You are running at a pace of 412.48 seconds per mile.\n",
      "You are running at a speed of 0.87 miles per hour.\n"
     ]
    }
   ],
   "source": [
    "e = (a + ( a /60))/d\n",
    "f = b/d\n",
    "g = d/(b/360)\n",
    "print('You are running at a pace of %.2f minutes per mile.' %(e))\n",
    "print('You are running at a pace of %.2f seconds per mile.' %(f))\n",
    "print('You are running at a speed of %.2f miles per hour.' %(g))"
   ]
  },
  {
   "cell_type": "code",
   "execution_count": null,
   "id": "349897b6",
   "metadata": {},
   "outputs": [],
   "source": []
  }
 ],
 "metadata": {
  "kernelspec": {
   "display_name": "Python 3 (ipykernel)",
   "language": "python",
   "name": "python3"
  },
  "language_info": {
   "codemirror_mode": {
    "name": "ipython",
    "version": 3
   },
   "file_extension": ".py",
   "mimetype": "text/x-python",
   "name": "python",
   "nbconvert_exporter": "python",
   "pygments_lexer": "ipython3",
   "version": "3.11.5"
  }
 },
 "nbformat": 4,
 "nbformat_minor": 5
}
